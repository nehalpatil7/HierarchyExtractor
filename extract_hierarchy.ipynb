{
 "cells": [
  {
   "cell_type": "markdown",
   "metadata": {},
   "source": [
    "## Script to find all distinct keys in JSON object in hierarchical order"
   ]
  },
  {
   "cell_type": "code",
   "execution_count": 19,
   "metadata": {},
   "outputs": [],
   "source": [
    "import os\n",
    "import json\n",
    "from glob import glob\n",
    "from anytree import Node, RenderTree, AsciiStyle\n"
   ]
  },
  {
   "cell_type": "code",
   "execution_count": 18,
   "metadata": {},
   "outputs": [],
   "source": [
    "def extract_keys(json_obj, parent_key=\"\", existing_keys=None):\n",
    "    if existing_keys is None:\n",
    "        existing_keys = {}\n",
    "\n",
    "    if isinstance(json_obj, dict):\n",
    "        for key, value in json_obj.items():\n",
    "            if key not in existing_keys:\n",
    "                existing_keys[key] = {}\n",
    "            full_key = f\"{parent_key}.{key}\" if parent_key else key\n",
    "            extract_keys(value, full_key, existing_keys[key])\n",
    "    elif isinstance(json_obj, list):\n",
    "        for item in json_obj:\n",
    "            extract_keys(item, parent_key, existing_keys)\n",
    "\n",
    "    return existing_keys\n",
    "\n",
    "\n",
    "def read_json_file(file_path):\n",
    "    with open(file_path, \"r\") as file:\n",
    "        return json.load(file)\n"
   ]
  },
  {
   "cell_type": "code",
   "execution_count": 17,
   "metadata": {},
   "outputs": [],
   "source": [
    "def create_anytree_nodes(hierarchical_keys, parent=None):\n",
    "    nodes = {}\n",
    "    for key, subkeys in hierarchical_keys.items():\n",
    "        if parent is None:\n",
    "            node = Node(key)\n",
    "        else:\n",
    "            node = Node(key, parent=parent)\n",
    "        nodes[key] = node\n",
    "        create_anytree_nodes(subkeys, node)\n",
    "    return nodes\n",
    "\n",
    "\n",
    "def visualize_keys(hierarchical_keys):\n",
    "    root = Node(\"root\")\n",
    "    create_anytree_nodes(hierarchical_keys, root)\n",
    "    for pre, fill, node in RenderTree(root, style=AsciiStyle()):\n",
    "        print(f\"{pre}{node.name}\")\n"
   ]
  },
  {
   "cell_type": "code",
   "execution_count": 16,
   "metadata": {},
   "outputs": [],
   "source": [
    "def process_json_files(file_path):\n",
    "    if file_path.split(\".\")[-1] == \"json\":\n",
    "        json_files = [file_path]\n",
    "    else:\n",
    "        json_files = glob(os.path.join(file_path, \"*.json\"))\n",
    "\n",
    "    for json_file in json_files:\n",
    "        json_data = read_json_file(json_file)\n",
    "        hierarchical_keys = extract_keys(json_data)\n",
    "        print(f\"Visualizing keys for {json_file}\")\n",
    "        visualize_keys(hierarchical_keys)\n"
   ]
  },
  {
   "cell_type": "code",
   "execution_count": null,
   "metadata": {},
   "outputs": [],
   "source": [
    "json_directory = \"Users/Desktop/example.json\"\n",
    "\n",
    "\"\"\"\n",
    "function to extract json data hierarchy\n",
    "\n",
    ":parameter 1: path to JSON file(with .json entension at the end) or directory containing multiple JSON files\n",
    ":returns: object hierarchy in JSON in graphical format\n",
    "\"\"\"\n",
    "process_json_files(json_directory)\n"
   ]
  }
 ],
 "metadata": {
  "kernelspec": {
   "display_name": "Python 3",
   "language": "python",
   "name": "python3"
  },
  "language_info": {
   "codemirror_mode": {
    "name": "ipython",
    "version": 3
   },
   "file_extension": ".py",
   "mimetype": "text/x-python",
   "name": "python",
   "nbconvert_exporter": "python",
   "pygments_lexer": "ipython3",
   "version": "3.11.5"
  }
 },
 "nbformat": 4,
 "nbformat_minor": 2
}
